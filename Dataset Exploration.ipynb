{
 "cells": [
  {
   "cell_type": "code",
   "execution_count": 1,
   "metadata": {},
   "outputs": [],
   "source": [
    "import pandas as pd\n",
    "from tqdm import tqdm\n",
    "from urllib.request import urlopen\n",
    "import requests\n",
    "from sklearn.model_selection import train_test_split"
   ]
  },
  {
   "cell_type": "code",
   "execution_count": 2,
   "metadata": {},
   "outputs": [],
   "source": [
    "pd.set_option('display.max_colwidth', -1)\n",
    "pd.set_option('display.max_columns', None)\n",
    "pd.set_option('display.max_rows', 50000000)\n",
    "pd.set_option('display.max_columns', None)\n",
    "pd.set_option('display.width', 200000000)\n",
    "pd.set_option('display.float_format', '{:20,.2f}'.format)\n",
    "pd.set_option('display.max_colwidth', -1)\n",
    "pd.set_option('display.max_rows', 50000000)\n",
    "pd.set_option('display.max_columns', 5000000)\n",
    "pd.set_option('display.width', 10000000)"
   ]
  },
  {
   "cell_type": "markdown",
   "metadata": {},
   "source": [
    "### 1. Reducing the dataset by keeping only columns of interest:"
   ]
  },
  {
   "cell_type": "code",
   "execution_count": 31,
   "metadata": {},
   "outputs": [
    {
     "name": "stderr",
     "output_type": "stream",
     "text": [
      "/Users/d22admin/anaconda3/lib/python3.6/site-packages/IPython/core/interactiveshell.py:3020: DtypeWarning: Columns (2,12) have mixed types. Specify dtype option on import or set low_memory=False.\n",
      "  interactivity=interactivity, compiler=compiler, result=result)\n"
     ]
    }
   ],
   "source": [
    "dota_link_path = \"/Users/d22admin/USCGDrive/BeyondAssignment/dota2_multimodal_dataset/dota2_text_graph/dota_csv/\"\n",
    "data = pd.read_csv(dota_link_path+\"dota_withlink.csv\", usecols=[\"id\", \"text\", \"links\", \"user.id\"])"
   ]
  },
  {
   "cell_type": "code",
   "execution_count": 3,
   "metadata": {
    "scrolled": true
   },
   "outputs": [
    {
     "ename": "NameError",
     "evalue": "name 'data' is not defined",
     "output_type": "error",
     "traceback": [
      "\u001b[0;31m---------------------------------------------------------------------------\u001b[0m",
      "\u001b[0;31mNameError\u001b[0m                                 Traceback (most recent call last)",
      "\u001b[0;32m<ipython-input-3-11a68b015844>\u001b[0m in \u001b[0;36m<module>\u001b[0;34m\u001b[0m\n\u001b[0;32m----> 1\u001b[0;31m \u001b[0mlist\u001b[0m\u001b[0;34m(\u001b[0m\u001b[0mdata\u001b[0m\u001b[0;34m.\u001b[0m\u001b[0mcolumns\u001b[0m\u001b[0;34m)\u001b[0m\u001b[0;34m\u001b[0m\u001b[0;34m\u001b[0m\u001b[0m\n\u001b[0m",
      "\u001b[0;31mNameError\u001b[0m: name 'data' is not defined"
     ]
    }
   ],
   "source": [
    "list(data.columns)"
   ]
  },
  {
   "cell_type": "code",
   "execution_count": 56,
   "metadata": {},
   "outputs": [
    {
     "data": {
      "text/plain": [
       "1614690"
      ]
     },
     "execution_count": 56,
     "metadata": {},
     "output_type": "execute_result"
    }
   ],
   "source": [
    "len(data)"
   ]
  },
  {
   "cell_type": "code",
   "execution_count": 36,
   "metadata": {},
   "outputs": [
    {
     "data": {
      "text/html": [
       "<div>\n",
       "<style scoped>\n",
       "    .dataframe tbody tr th:only-of-type {\n",
       "        vertical-align: middle;\n",
       "    }\n",
       "\n",
       "    .dataframe tbody tr th {\n",
       "        vertical-align: top;\n",
       "    }\n",
       "\n",
       "    .dataframe thead th {\n",
       "        text-align: right;\n",
       "    }\n",
       "</style>\n",
       "<table border=\"1\" class=\"dataframe\">\n",
       "  <thead>\n",
       "    <tr style=\"text-align: right;\">\n",
       "      <th></th>\n",
       "      <th>Unnamed: 0</th>\n",
       "      <th>id</th>\n",
       "      <th>text</th>\n",
       "      <th>user.id</th>\n",
       "      <th>links</th>\n",
       "    </tr>\n",
       "  </thead>\n",
       "  <tbody>\n",
       "    <tr>\n",
       "      <th>0</th>\n",
       "      <td>0</td>\n",
       "      <td>1163909444561805312</td>\n",
       "      <td>RT @madhukishwar: This is how @JehadiShehlaRashid tweets become international news. Not to worry #JehadiBabe, you will pay for defaming Ind…</td>\n",
       "      <td>4665400598</td>\n",
       "      <td>['http://pbs.twimg.com/profile_images/1150867728925941760/e_wsWzj7_normal.jpg', 'https://pbs.twimg.com/profile_images/1150867728925941760/e_wsWzj7_normal.jpg', 'https://pbs.twimg.com/profile_banners/4665400598/1451633827', 'http://trtworld.com', 'http://abs.twimg.com/images/themes/theme1/bg.png', 'https://abs.twimg.com/images/themes/theme1/bg.png', 'http://pbs.twimg.com/profile_images/604916087180754945/1aMHMBIj_normal.png', 'https://pbs.twimg.com/profile_images/604916087180754945/1aMHMBIj_normal.png', 'https://t.co/LhRjvyWl4O', 'https://twitter.com/trtworld/status/1163835582696628224', 'http://www.manushi.in', 'http://abs.twimg.com/images/themes/theme1/bg.png', 'https://abs.twimg.com/images/themes/theme1/bg.png', 'http://pbs.twimg.com/profile_images/957311651790831616/aPQe3swS_normal.jpg', 'https://pbs.twimg.com/profile_images/957311651790831616/aPQe3swS_normal.jpg', 'https://pbs.twimg.com/profile_banners/258283931/1486796217', 'https://pbs.twimg.com/profile_banners/3091150576/1565186153', 'http://trtworld.com', 'http://abs.twimg.com/images/themes/theme1/bg.png', 'https://abs.twimg.com/images/themes/theme1/bg.png', 'http://pbs.twimg.com/profile_images/604916087180754945/1aMHMBIj_normal.png', 'https://pbs.twimg.com/profile_images/604916087180754945/1aMHMBIj_normal.png', 'https://pbs.twimg.com/profile_banners/3091150576/1565186153', 'https://t.co/LhRjvyWl4O', 'https://twitter.com/trtworld/status/1163835582696628224']</td>\n",
       "    </tr>\n",
       "    <tr>\n",
       "      <th>1</th>\n",
       "      <td>1</td>\n",
       "      <td>1163909445048590336</td>\n",
       "      <td>RT @wykrhm: Who is gonna go home? #TI9</td>\n",
       "      <td>931282304877645824</td>\n",
       "      <td>['http://abs.twimg.com/images/themes/theme1/bg.png', 'https://abs.twimg.com/images/themes/theme1/bg.png', 'http://pbs.twimg.com/profile_images/1163908485270167553/Krpelg0p_normal.jpg', 'https://pbs.twimg.com/profile_images/1163908485270167553/Krpelg0p_normal.jpg', 'https://pbs.twimg.com/profile_banners/931282304877645824/1566332382', 'http://www.facebook.com/wykrhmreddy/', 'http://abs.twimg.com/images/themes/theme14/bg.gif', 'https://abs.twimg.com/images/themes/theme14/bg.gif', 'http://pbs.twimg.com/profile_images/875400809210552320/2OyTmeRG_normal.jpg', 'https://pbs.twimg.com/profile_images/875400809210552320/2OyTmeRG_normal.jpg', 'https://pbs.twimg.com/profile_banners/44680622/1401902426']</td>\n",
       "    </tr>\n",
       "    <tr>\n",
       "      <th>2</th>\n",
       "      <td>2</td>\n",
       "      <td>1163909446352932864</td>\n",
       "      <td>RT @shomaristone: Black Student in Texas 'Shamed' When School Officials Colored Hair.\\nA federal civil rights lawsuit says administrators la…</td>\n",
       "      <td>268628882</td>\n",
       "      <td>['http://abs.twimg.com/images/themes/theme1/bg.png', 'https://abs.twimg.com/images/themes/theme1/bg.png', 'http://pbs.twimg.com/profile_images/911974579802918913/cx04i84K_normal.jpg', 'https://pbs.twimg.com/profile_images/911974579802918913/cx04i84K_normal.jpg', 'https://pbs.twimg.com/profile_banners/268628882/1510890368', 'https://m.facebook.com/ShomariStoneNBC/', 'http://abs.twimg.com/images/themes/theme1/bg.png', 'https://abs.twimg.com/images/themes/theme1/bg.png', 'http://pbs.twimg.com/profile_images/925335320043933696/Z-lkwAgu_normal.jpg', 'https://pbs.twimg.com/profile_images/925335320043933696/Z-lkwAgu_normal.jpg', 'https://pbs.twimg.com/profile_banners/264924050/1529548530']</td>\n",
       "    </tr>\n",
       "    <tr>\n",
       "      <th>3</th>\n",
       "      <td>3</td>\n",
       "      <td>1163909445430026240</td>\n",
       "      <td>White Cookies is on sale today with the code 99COOKIES\\n\\nWhite Cookies is a super delicious #indica dominant hybrid… https://t.co/oJuZhWqQfW</td>\n",
       "      <td>1136015399063973888</td>\n",
       "      <td>['https://www.supherbs.ca/', 'http://pbs.twimg.com/profile_images/1136019107696873472/_u8wL3Pt_normal.jpg', 'https://pbs.twimg.com/profile_images/1136019107696873472/_u8wL3Pt_normal.jpg', 'https://pbs.twimg.com/profile_banners/1136015399063973888/1559685149']</td>\n",
       "    </tr>\n",
       "    <tr>\n",
       "      <th>4</th>\n",
       "      <td>4</td>\n",
       "      <td>1163909449838465025</td>\n",
       "      <td>RT @utdxtra: Pogba: “I am French but I would say I am international. I am not only French. I have the French passport, French ID but I have…</td>\n",
       "      <td>821008267174379520</td>\n",
       "      <td>['http://pbs.twimg.com/profile_images/1161775535120408577/Bnq6CMT__normal.jpg', 'https://pbs.twimg.com/profile_images/1161775535120408577/Bnq6CMT__normal.jpg', 'https://pbs.twimg.com/profile_banners/821008267174379520/1565898940', 'http://abs.twimg.com/images/themes/theme1/bg.png', 'https://abs.twimg.com/images/themes/theme1/bg.png', 'http://pbs.twimg.com/profile_images/959949566782124033/Kmx6rQBe_normal.jpg', 'https://pbs.twimg.com/profile_images/959949566782124033/Kmx6rQBe_normal.jpg', 'https://pbs.twimg.com/profile_banners/2196205482/1565724883']</td>\n",
       "    </tr>\n",
       "  </tbody>\n",
       "</table>\n",
       "</div>"
      ],
      "text/plain": [
       "   Unnamed: 0                   id                                                                                                                                           text              user.id                                                                                                                                                                                                                                                                                                                                                                                                                                                                                                                                                                                                                                                                                                                                                                                                                                                                                                                                                                                                                                                                                                                                                                                                                                                                                                                                                                                                                                                                                            links\n",
       "0  0           1163909444561805312  RT @madhukishwar: This is how @JehadiShehlaRashid tweets become international news. Not to worry #JehadiBabe, you will pay for defaming Ind…   4665400598           ['http://pbs.twimg.com/profile_images/1150867728925941760/e_wsWzj7_normal.jpg', 'https://pbs.twimg.com/profile_images/1150867728925941760/e_wsWzj7_normal.jpg', 'https://pbs.twimg.com/profile_banners/4665400598/1451633827', 'http://trtworld.com', 'http://abs.twimg.com/images/themes/theme1/bg.png', 'https://abs.twimg.com/images/themes/theme1/bg.png', 'http://pbs.twimg.com/profile_images/604916087180754945/1aMHMBIj_normal.png', 'https://pbs.twimg.com/profile_images/604916087180754945/1aMHMBIj_normal.png', 'https://t.co/LhRjvyWl4O', 'https://twitter.com/trtworld/status/1163835582696628224', 'http://www.manushi.in', 'http://abs.twimg.com/images/themes/theme1/bg.png', 'https://abs.twimg.com/images/themes/theme1/bg.png', 'http://pbs.twimg.com/profile_images/957311651790831616/aPQe3swS_normal.jpg', 'https://pbs.twimg.com/profile_images/957311651790831616/aPQe3swS_normal.jpg', 'https://pbs.twimg.com/profile_banners/258283931/1486796217', 'https://pbs.twimg.com/profile_banners/3091150576/1565186153', 'http://trtworld.com', 'http://abs.twimg.com/images/themes/theme1/bg.png', 'https://abs.twimg.com/images/themes/theme1/bg.png', 'http://pbs.twimg.com/profile_images/604916087180754945/1aMHMBIj_normal.png', 'https://pbs.twimg.com/profile_images/604916087180754945/1aMHMBIj_normal.png', 'https://pbs.twimg.com/profile_banners/3091150576/1565186153', 'https://t.co/LhRjvyWl4O', 'https://twitter.com/trtworld/status/1163835582696628224']\n",
       "1  1           1163909445048590336  RT @wykrhm: Who is gonna go home? #TI9                                                                                                         931282304877645824   ['http://abs.twimg.com/images/themes/theme1/bg.png', 'https://abs.twimg.com/images/themes/theme1/bg.png', 'http://pbs.twimg.com/profile_images/1163908485270167553/Krpelg0p_normal.jpg', 'https://pbs.twimg.com/profile_images/1163908485270167553/Krpelg0p_normal.jpg', 'https://pbs.twimg.com/profile_banners/931282304877645824/1566332382', 'http://www.facebook.com/wykrhmreddy/', 'http://abs.twimg.com/images/themes/theme14/bg.gif', 'https://abs.twimg.com/images/themes/theme14/bg.gif', 'http://pbs.twimg.com/profile_images/875400809210552320/2OyTmeRG_normal.jpg', 'https://pbs.twimg.com/profile_images/875400809210552320/2OyTmeRG_normal.jpg', 'https://pbs.twimg.com/profile_banners/44680622/1401902426']                                                                                                                                                                                                                                                                                                                                                                                                                                                                                                                                                                                                                                                                                                                                                                   \n",
       "2  2           1163909446352932864  RT @shomaristone: Black Student in Texas 'Shamed' When School Officials Colored Hair.\\nA federal civil rights lawsuit says administrators la…  268628882            ['http://abs.twimg.com/images/themes/theme1/bg.png', 'https://abs.twimg.com/images/themes/theme1/bg.png', 'http://pbs.twimg.com/profile_images/911974579802918913/cx04i84K_normal.jpg', 'https://pbs.twimg.com/profile_images/911974579802918913/cx04i84K_normal.jpg', 'https://pbs.twimg.com/profile_banners/268628882/1510890368', 'https://m.facebook.com/ShomariStoneNBC/', 'http://abs.twimg.com/images/themes/theme1/bg.png', 'https://abs.twimg.com/images/themes/theme1/bg.png', 'http://pbs.twimg.com/profile_images/925335320043933696/Z-lkwAgu_normal.jpg', 'https://pbs.twimg.com/profile_images/925335320043933696/Z-lkwAgu_normal.jpg', 'https://pbs.twimg.com/profile_banners/264924050/1529548530']                                                                                                                                                                                                                                                                                                                                                                                                                                                                                                                                                                                                                                                                                                                                                                            \n",
       "3  3           1163909445430026240  White Cookies is on sale today with the code 99COOKIES\\n\\nWhite Cookies is a super delicious #indica dominant hybrid… https://t.co/oJuZhWqQfW  1136015399063973888  ['https://www.supherbs.ca/', 'http://pbs.twimg.com/profile_images/1136019107696873472/_u8wL3Pt_normal.jpg', 'https://pbs.twimg.com/profile_images/1136019107696873472/_u8wL3Pt_normal.jpg', 'https://pbs.twimg.com/profile_banners/1136015399063973888/1559685149']                                                                                                                                                                                                                                                                                                                                                                                                                                                                                                                                                                                                                                                                                                                                                                                                                                                                                                                                                                                                                                                                                                                                                                                                                            \n",
       "4  4           1163909449838465025  RT @utdxtra: Pogba: “I am French but I would say I am international. I am not only French. I have the French passport, French ID but I have…   821008267174379520   ['http://pbs.twimg.com/profile_images/1161775535120408577/Bnq6CMT__normal.jpg', 'https://pbs.twimg.com/profile_images/1161775535120408577/Bnq6CMT__normal.jpg', 'https://pbs.twimg.com/profile_banners/821008267174379520/1565898940', 'http://abs.twimg.com/images/themes/theme1/bg.png', 'https://abs.twimg.com/images/themes/theme1/bg.png', 'http://pbs.twimg.com/profile_images/959949566782124033/Kmx6rQBe_normal.jpg', 'https://pbs.twimg.com/profile_images/959949566782124033/Kmx6rQBe_normal.jpg', 'https://pbs.twimg.com/profile_banners/2196205482/1565724883']                                                                                                                                                                                                                                                                                                                                                                                                                                                                                                                                                                                                                                                                                                                                                                                                                                                                                                                    "
      ]
     },
     "execution_count": 36,
     "metadata": {},
     "output_type": "execute_result"
    }
   ],
   "source": [
    "data_small.head()"
   ]
  },
  {
   "cell_type": "markdown",
   "metadata": {},
   "source": [
    "### 2. Downloading/Cleaning of the small version by removing useless links and downloading the list of images relevant to each user.id:"
   ]
  },
  {
   "cell_type": "code",
   "execution_count": 4,
   "metadata": {},
   "outputs": [],
   "source": [
    "from tqdm import tqdm\n",
    "data_small = pd.read_csv(\"dota_small_version.csv\")"
   ]
  },
  {
   "cell_type": "code",
   "execution_count": 6,
   "metadata": {},
   "outputs": [
    {
     "data": {
      "text/plain": [
       "Index(['Unnamed: 0', 'id', 'text', 'user.id', 'links'], dtype='object')"
      ]
     },
     "execution_count": 6,
     "metadata": {},
     "output_type": "execute_result"
    }
   ],
   "source": [
    "data_small.columns"
   ]
  },
  {
   "cell_type": "markdown",
   "metadata": {},
   "source": [
    "#### 2.1. Image Links/tweets Viz:"
   ]
  },
  {
   "cell_type": "code",
   "execution_count": 7,
   "metadata": {},
   "outputs": [
    {
     "data": {
      "text/plain": [
       "\"['http://abs.twimg.com/images/themes/theme1/bg.png', 'https://abs.twimg.com/images/themes/theme1/bg.png', 'http://pbs.twimg.com/profile_images/1163908485270167553/Krpelg0p_normal.jpg', 'https://pbs.twimg.com/profile_images/1163908485270167553/Krpelg0p_normal.jpg', 'https://pbs.twimg.com/profile_banners/931282304877645824/1566332382', 'http://www.facebook.com/wykrhmreddy/', 'http://abs.twimg.com/images/themes/theme14/bg.gif', 'https://abs.twimg.com/images/themes/theme14/bg.gif', 'http://pbs.twimg.com/profile_images/875400809210552320/2OyTmeRG_normal.jpg', 'https://pbs.twimg.com/profile_images/875400809210552320/2OyTmeRG_normal.jpg', 'https://pbs.twimg.com/profile_banners/44680622/1401902426']\""
      ]
     },
     "execution_count": 7,
     "metadata": {},
     "output_type": "execute_result"
    }
   ],
   "source": [
    "list(data_small[\"links\"])[1]"
   ]
  },
  {
   "cell_type": "code",
   "execution_count": 53,
   "metadata": {},
   "outputs": [
    {
     "name": "stdout",
     "output_type": "stream",
     "text": [
      "['http://pbs.twimg.com/profile_images/1150867728925941760/e_wsWzj7_normal.jpg', 'https://pbs.twimg.com/profile_images/1150867728925941760/e_wsWzj7_normal.jpg', 'https://pbs.twimg.com/profile_banners/4665400598/1451633827', 'http://trtworld.com', 'http://abs.twimg.com/images/themes/theme1/bg.png', 'https://abs.twimg.com/images/themes/theme1/bg.png', 'http://pbs.twimg.com/profile_images/604916087180754945/1aMHMBIj_normal.png', 'https://pbs.twimg.com/profile_images/604916087180754945/1aMHMBIj_normal.png', 'https://t.co/LhRjvyWl4O', 'https://twitter.com/trtworld/status/1163835582696628224', 'http://www.manushi.in', 'http://abs.twimg.com/images/themes/theme1/bg.png', 'https://abs.twimg.com/images/themes/theme1/bg.png', 'http://pbs.twimg.com/profile_images/957311651790831616/aPQe3swS_normal.jpg', 'https://pbs.twimg.com/profile_images/957311651790831616/aPQe3swS_normal.jpg', 'https://pbs.twimg.com/profile_banners/258283931/1486796217', 'https://pbs.twimg.com/profile_banners/3091150576/1565186153', 'http://trtworld.com', 'http://abs.twimg.com/images/themes/theme1/bg.png', 'https://abs.twimg.com/images/themes/theme1/bg.png', 'http://pbs.twimg.com/profile_images/604916087180754945/1aMHMBIj_normal.png', 'https://pbs.twimg.com/profile_images/604916087180754945/1aMHMBIj_normal.png', 'https://pbs.twimg.com/profile_banners/3091150576/1565186153', 'https://t.co/LhRjvyWl4O', 'https://twitter.com/trtworld/status/1163835582696628224']\n",
      "##################################################\n",
      "RT @madhukishwar: This is how @JehadiShehlaRashid tweets become international news. Not to worry #JehadiBabe, you will pay for defaming Ind…\n",
      "##################################################\n",
      "4665400598\n"
     ]
    }
   ],
   "source": [
    "print(list(data_small[\"links\"])[0])\n",
    "print(\"##################################################\")\n",
    "print(list(data_small[\"text\"])[0])\n",
    "print(\"##################################################\")\n",
    "print(list(data_small[\"user.id\"])[0])"
   ]
  },
  {
   "cell_type": "markdown",
   "metadata": {},
   "source": [
    "#### 2.2. Cleaning up useless links:"
   ]
  },
  {
   "cell_type": "code",
   "execution_count": 22,
   "metadata": {},
   "outputs": [],
   "source": [
    "image_formats = (\"image/png\", \"image/jpeg\")\n",
    "useless_links = [\"http://abs.twimg.com/images/themes/theme1/bg.png\", \"http://trtworld.com\", \"http://www.manushi.in\", \"https://pbs.twimg.com/profile_banners/3091150576/1565186153\", \"http://BetSportsLive.ru - сайт о ставках на спорт.\", \"Прогнозы\", \"http://ProfessorRobertStewart.org\"] \n",
    "import urllib\n",
    "def check_for_image(image_url):\n",
    "    if image_url in useless_links or \"http://BetSportsLive.ru\" in image_url:\n",
    "        return False\n",
    "    try: \n",
    "        site = urlopen(image_url)\n",
    "    except urllib.error.URLError as e:\n",
    "        return False\n",
    "    meta = site.info()  # get header of the http request\n",
    "    if meta[\"content-type\"] in image_formats:  # check if the content-type is a image\n",
    "        return True\n",
    "    else:\n",
    "        return False "
   ]
  },
  {
   "cell_type": "code",
   "execution_count": null,
   "metadata": {
    "scrolled": true
   },
   "outputs": [
    {
     "name": "stderr",
     "output_type": "stream",
     "text": [
      "\n",
      "\n",
      "\n",
      "\n",
      "\n",
      "\n",
      "\n",
      "\n",
      "\n",
      "  0%|          | 0/1000 [00:00<?, ?it/s]\u001b[A\u001b[A\u001b[A\u001b[A\u001b[A\u001b[A\u001b[A\u001b[A\u001b[A"
     ]
    },
    {
     "name": "stdout",
     "output_type": "stream",
     "text": [
      "url: http://pbs.twimg.com/profile_images/1150867728925941760/e_wsWzj7_normal.jpg\n",
      "url: https://pbs.twimg.com/profile_images/1150867728925941760/e_wsWzj7_normal.jpg\n",
      "url: https://pbs.twimg.com/profile_banners/4665400598/1451633827\n",
      "url: http://trtworld.com\n",
      "url: http://abs.twimg.com/images/themes/theme1/bg.png\n",
      "url: https://abs.twimg.com/images/themes/theme1/bg.png\n",
      "url: http://pbs.twimg.com/profile_images/604916087180754945/1aMHMBIj_normal.png\n",
      "url: https://pbs.twimg.com/profile_images/604916087180754945/1aMHMBIj_normal.png\n",
      "url: https://t.co/LhRjvyWl4O\n",
      "url: https://twitter.com/trtworld/status/1163835582696628224\n",
      "url: http://www.manushi.in\n",
      "url: http://abs.twimg.com/images/themes/theme1/bg.png\n",
      "url: https://abs.twimg.com/images/themes/theme1/bg.png\n",
      "url: http://pbs.twimg.com/profile_images/957311651790831616/aPQe3swS_normal.jpg\n",
      "url: https://pbs.twimg.com/profile_images/957311651790831616/aPQe3swS_normal.jpg\n",
      "url: https://pbs.twimg.com/profile_banners/258283931/1486796217\n",
      "url: https://pbs.twimg.com/profile_banners/3091150576/1565186153\n",
      "url: http://trtworld.com\n",
      "url: http://abs.twimg.com/images/themes/theme1/bg.png\n",
      "url: https://abs.twimg.com/images/themes/theme1/bg.png\n",
      "url: http://pbs.twimg.com/profile_images/604916087180754945/1aMHMBIj_normal.png\n",
      "url: https://pbs.twimg.com/profile_images/604916087180754945/1aMHMBIj_normal.png\n",
      "url: https://pbs.twimg.com/profile_banners/3091150576/1565186153\n",
      "url: https://t.co/LhRjvyWl4O\n",
      "url: https://twitter.com/trtworld/status/1163835582696628224\n"
     ]
    },
    {
     "name": "stderr",
     "output_type": "stream",
     "text": [
      "\n",
      "\n",
      "\n",
      "\n",
      "\n",
      "\n",
      "\n",
      "\n",
      "\n",
      "  0%|          | 1/1000 [00:03<1:01:30,  3.69s/it]\u001b[A\u001b[A\u001b[A\u001b[A\u001b[A\u001b[A\u001b[A\u001b[A\u001b[A"
     ]
    },
    {
     "name": "stdout",
     "output_type": "stream",
     "text": [
      "url: http://abs.twimg.com/images/themes/theme1/bg.png\n",
      "url: https://abs.twimg.com/images/themes/theme1/bg.png\n",
      "url: http://pbs.twimg.com/profile_images/1163908485270167553/Krpelg0p_normal.jpg\n",
      "url: https://pbs.twimg.com/profile_images/1163908485270167553/Krpelg0p_normal.jpg\n",
      "url: https://pbs.twimg.com/profile_banners/931282304877645824/1566332382\n",
      "url: http://www.facebook.com/wykrhmreddy/\n",
      "url: http://abs.twimg.com/images/themes/theme14/bg.gif\n",
      "url: https://abs.twimg.com/images/themes/theme14/bg.gif\n",
      "url: http://pbs.twimg.com/profile_images/875400809210552320/2OyTmeRG_normal.jpg\n",
      "url: https://pbs.twimg.com/profile_images/875400809210552320/2OyTmeRG_normal.jpg\n",
      "url: https://pbs.twimg.com/profile_banners/44680622/1401902426\n"
     ]
    },
    {
     "name": "stderr",
     "output_type": "stream",
     "text": [
      "\n",
      "\n",
      "\n",
      "\n",
      "\n",
      "\n",
      "\n",
      "\n",
      "\n",
      "  0%|          | 2/1000 [00:06<57:30,  3.46s/it]  \u001b[A\u001b[A\u001b[A\u001b[A\u001b[A\u001b[A\u001b[A\u001b[A\u001b[A"
     ]
    },
    {
     "name": "stdout",
     "output_type": "stream",
     "text": [
      "url: http://abs.twimg.com/images/themes/theme1/bg.png\n",
      "url: https://abs.twimg.com/images/themes/theme1/bg.png\n",
      "url: http://pbs.twimg.com/profile_images/911974579802918913/cx04i84K_normal.jpg\n",
      "url: https://pbs.twimg.com/profile_images/911974579802918913/cx04i84K_normal.jpg\n",
      "url: https://pbs.twimg.com/profile_banners/268628882/1510890368\n",
      "url: https://m.facebook.com/ShomariStoneNBC/\n",
      "url: http://abs.twimg.com/images/themes/theme1/bg.png\n",
      "url: https://abs.twimg.com/images/themes/theme1/bg.png\n",
      "url: http://pbs.twimg.com/profile_images/925335320043933696/Z-lkwAgu_normal.jpg\n",
      "url: https://pbs.twimg.com/profile_images/925335320043933696/Z-lkwAgu_normal.jpg\n",
      "url: https://pbs.twimg.com/profile_banners/264924050/1529548530\n"
     ]
    },
    {
     "name": "stderr",
     "output_type": "stream",
     "text": [
      "\n",
      "\n",
      "\n",
      "\n",
      "\n",
      "\n",
      "\n",
      "\n",
      "\n",
      "  0%|          | 3/1000 [00:12<1:08:54,  4.15s/it]\u001b[A\u001b[A\u001b[A\u001b[A\u001b[A\u001b[A\u001b[A\u001b[A\u001b[A"
     ]
    },
    {
     "name": "stdout",
     "output_type": "stream",
     "text": [
      "url: https://www.supherbs.ca/\n",
      "url: http://pbs.twimg.com/profile_images/1136019107696873472/_u8wL3Pt_normal.jpg\n",
      "url: https://pbs.twimg.com/profile_images/1136019107696873472/_u8wL3Pt_normal.jpg\n",
      "url: https://pbs.twimg.com/profile_banners/1136015399063973888/1559685149\n"
     ]
    },
    {
     "name": "stderr",
     "output_type": "stream",
     "text": [
      "\n",
      "\n",
      "\n",
      "\n",
      "\n",
      "\n",
      "\n",
      "\n",
      "\n",
      "  0%|          | 4/1000 [00:15<1:02:45,  3.78s/it]\u001b[A\u001b[A\u001b[A\u001b[A\u001b[A\u001b[A\u001b[A\u001b[A\u001b[A"
     ]
    },
    {
     "name": "stdout",
     "output_type": "stream",
     "text": [
      "url: http://pbs.twimg.com/profile_images/1161775535120408577/Bnq6CMT__normal.jpg\n",
      "url: https://pbs.twimg.com/profile_images/1161775535120408577/Bnq6CMT__normal.jpg\n",
      "url: https://pbs.twimg.com/profile_banners/821008267174379520/1565898940\n",
      "url: http://abs.twimg.com/images/themes/theme1/bg.png\n",
      "url: https://abs.twimg.com/images/themes/theme1/bg.png\n",
      "url: http://pbs.twimg.com/profile_images/959949566782124033/Kmx6rQBe_normal.jpg\n",
      "url: https://pbs.twimg.com/profile_images/959949566782124033/Kmx6rQBe_normal.jpg\n",
      "url: https://pbs.twimg.com/profile_banners/2196205482/1565724883\n"
     ]
    },
    {
     "name": "stderr",
     "output_type": "stream",
     "text": [
      "\n",
      "\n",
      "\n",
      "\n",
      "\n",
      "\n",
      "\n",
      "\n",
      "\n",
      "  0%|          | 5/1000 [00:16<50:46,  3.06s/it]  \u001b[A\u001b[A\u001b[A\u001b[A\u001b[A\u001b[A\u001b[A\u001b[A\u001b[A"
     ]
    },
    {
     "name": "stdout",
     "output_type": "stream",
     "text": [
      "url: http://abs.twimg.com/images/themes/theme1/bg.png\n",
      "url: https://abs.twimg.com/images/themes/theme1/bg.png\n",
      "url: http://pbs.twimg.com/profile_images/786626920356126720/YTLzUg0g_normal.jpg\n",
      "url: https://pbs.twimg.com/profile_images/786626920356126720/YTLzUg0g_normal.jpg\n",
      "url: https://pbs.twimg.com/profile_banners/47056173/1551659767\n",
      "url: http://abs.twimg.com/images/themes/theme1/bg.png\n",
      "url: https://abs.twimg.com/images/themes/theme1/bg.png\n",
      "url: http://pbs.twimg.com/profile_images/1158410934395817984/OAdwcwxF_normal.jpg\n",
      "url: https://pbs.twimg.com/profile_images/1158410934395817984/OAdwcwxF_normal.jpg\n",
      "url: https://t.co/MjGnfTlkC6\n",
      "url: https://twitter.com/CeeckhoutKiki/status/1163841345825443840\n",
      "url: http://abs.twimg.com/images/themes/theme1/bg.png\n",
      "url: https://abs.twimg.com/images/themes/theme1/bg.png\n",
      "url: http://pbs.twimg.com/profile_images/1133746874723295232/9Yp-WNDn_normal.png\n",
      "url: https://pbs.twimg.com/profile_images/1133746874723295232/9Yp-WNDn_normal.png\n",
      "url: https://pbs.twimg.com/profile_banners/4704757043/1566223727\n",
      "url: https://pbs.twimg.com/profile_banners/2722199248/1525280096\n",
      "url: http://abs.twimg.com/images/themes/theme1/bg.png\n",
      "url: https://abs.twimg.com/images/themes/theme1/bg.png\n",
      "url: http://pbs.twimg.com/profile_images/1158410934395817984/OAdwcwxF_normal.jpg\n",
      "url: https://pbs.twimg.com/profile_images/1158410934395817984/OAdwcwxF_normal.jpg\n",
      "url: https://pbs.twimg.com/profile_banners/2722199248/1525280096\n",
      "url: https://t.co/MjGnfTlkC6\n",
      "url: https://twitter.com/CeeckhoutKiki/status/1163841345825443840\n"
     ]
    },
    {
     "name": "stderr",
     "output_type": "stream",
     "text": [
      "\n",
      "\n",
      "\n",
      "\n",
      "\n",
      "\n",
      "\n",
      "\n",
      "\n",
      "  1%|          | 6/1000 [00:22<1:03:33,  3.84s/it]\u001b[A\u001b[A\u001b[A\u001b[A\u001b[A\u001b[A\u001b[A\u001b[A\u001b[A"
     ]
    },
    {
     "name": "stdout",
     "output_type": "stream",
     "text": [
      "url: http://abs.twimg.com/images/themes/theme1/bg.png\n",
      "url: https://abs.twimg.com/images/themes/theme1/bg.png\n",
      "url: http://pbs.twimg.com/profile_images/1020086739195445248/kQZnCp3M_normal.jpg\n",
      "url: https://pbs.twimg.com/profile_images/1020086739195445248/kQZnCp3M_normal.jpg\n",
      "url: http://abs.twimg.com/images/themes/theme1/bg.png\n",
      "url: https://abs.twimg.com/images/themes/theme1/bg.png\n",
      "url: http://pbs.twimg.com/profile_images/1152128665398009857/I8-hm2NX_normal.jpg\n",
      "url: https://pbs.twimg.com/profile_images/1152128665398009857/I8-hm2NX_normal.jpg\n",
      "url: https://pbs.twimg.com/profile_banners/716432228/1548989721\n"
     ]
    },
    {
     "name": "stderr",
     "output_type": "stream",
     "text": [
      "\n",
      "\n",
      "\n",
      "\n",
      "\n",
      "\n",
      "\n",
      "\n",
      "\n",
      "  1%|          | 7/1000 [00:23<50:14,  3.04s/it]  \u001b[A\u001b[A\u001b[A\u001b[A\u001b[A\u001b[A\u001b[A\u001b[A\u001b[A"
     ]
    },
    {
     "name": "stdout",
     "output_type": "stream",
     "text": [
      "url: http://abs.twimg.com/images/themes/theme1/bg.png\n",
      "url: https://abs.twimg.com/images/themes/theme1/bg.png\n",
      "url: http://pbs.twimg.com/profile_images/1160483513570697216/ECqjhmeY_normal.jpg\n",
      "url: https://pbs.twimg.com/profile_images/1160483513570697216/ECqjhmeY_normal.jpg\n",
      "url: https://pbs.twimg.com/profile_banners/909046326771384320/1566311265\n",
      "url: https://rebellion.earth/\n",
      "url: http://abs.twimg.com/images/themes/theme1/bg.png\n",
      "url: https://abs.twimg.com/images/themes/theme1/bg.png\n",
      "url: http://pbs.twimg.com/profile_images/1135936563701960705/tdEckrb3_normal.png\n",
      "url: https://pbs.twimg.com/profile_images/1135936563701960705/tdEckrb3_normal.png\n",
      "url: https://pbs.twimg.com/profile_banners/1135914951745294336/1559662714\n"
     ]
    },
    {
     "name": "stderr",
     "output_type": "stream",
     "text": [
      "\n",
      "\n",
      "\n",
      "\n",
      "\n",
      "\n",
      "\n",
      "\n",
      "\n",
      "  1%|          | 8/1000 [00:26<51:44,  3.13s/it]\u001b[A\u001b[A\u001b[A\u001b[A\u001b[A\u001b[A\u001b[A\u001b[A\u001b[A"
     ]
    },
    {
     "name": "stdout",
     "output_type": "stream",
     "text": [
      "url: http://pbs.twimg.com/profile_images/1065717505644273665/_aL36HOF_normal.jpg\n",
      "url: https://pbs.twimg.com/profile_images/1065717505644273665/_aL36HOF_normal.jpg\n",
      "url: https://pbs.twimg.com/profile_banners/4542325763/1542922046\n",
      "url: http://abs.twimg.com/images/themes/theme1/bg.png\n",
      "url: https://abs.twimg.com/images/themes/theme1/bg.png\n",
      "url: http://pbs.twimg.com/profile_images/959949566782124033/Kmx6rQBe_normal.jpg\n",
      "url: https://pbs.twimg.com/profile_images/959949566782124033/Kmx6rQBe_normal.jpg\n",
      "url: https://pbs.twimg.com/profile_banners/2196205482/1565724883\n"
     ]
    },
    {
     "name": "stderr",
     "output_type": "stream",
     "text": [
      "\n",
      "\n",
      "\n",
      "\n",
      "\n",
      "\n",
      "\n",
      "\n",
      "\n",
      "  1%|          | 9/1000 [00:28<46:09,  2.79s/it]\u001b[A\u001b[A\u001b[A\u001b[A\u001b[A\u001b[A\u001b[A\u001b[A\u001b[A"
     ]
    },
    {
     "name": "stdout",
     "output_type": "stream",
     "text": [
      "url: http://pbs.twimg.com/profile_images/985084971168677888/LULI9FKu_normal.jpg\n",
      "url: https://pbs.twimg.com/profile_images/985084971168677888/LULI9FKu_normal.jpg\n",
      "url: https://pbs.twimg.com/profile_banners/985082701131612161/1523697564\n"
     ]
    },
    {
     "name": "stderr",
     "output_type": "stream",
     "text": [
      "\n",
      "\n",
      "\n",
      "\n",
      "\n",
      "\n",
      "\n",
      "\n",
      "\n",
      "  1%|          | 10/1000 [00:29<35:31,  2.15s/it]\u001b[A\u001b[A\u001b[A\u001b[A\u001b[A\u001b[A\u001b[A\u001b[A\u001b[A"
     ]
    },
    {
     "name": "stdout",
     "output_type": "stream",
     "text": [
      "url: http://abs.twimg.com/images/themes/theme1/bg.png\n",
      "url: https://abs.twimg.com/images/themes/theme1/bg.png\n",
      "url: http://pbs.twimg.com/profile_images/1062662947040870400/WPBiLTkw_normal.jpg\n",
      "url: https://pbs.twimg.com/profile_images/1062662947040870400/WPBiLTkw_normal.jpg\n",
      "url: https://pbs.twimg.com/profile_banners/788710715494371328/1564164741\n",
      "url: http://5cf253cb666f9.site123.me/\n",
      "url: http://abs.twimg.com/images/themes/theme1/bg.png\n",
      "url: https://abs.twimg.com/images/themes/theme1/bg.png\n",
      "url: http://pbs.twimg.com/profile_images/1161320443573395456/idMrE9wm_normal.jpg\n",
      "url: https://pbs.twimg.com/profile_images/1161320443573395456/idMrE9wm_normal.jpg\n",
      "url: https://pbs.twimg.com/profile_banners/1108360164971868161/1566073858\n"
     ]
    },
    {
     "name": "stderr",
     "output_type": "stream",
     "text": [
      "\n",
      "\n",
      "\n",
      "\n",
      "\n",
      "\n",
      "\n",
      "\n",
      "\n",
      "  1%|          | 11/1000 [00:31<36:12,  2.20s/it]\u001b[A\u001b[A\u001b[A\u001b[A\u001b[A\u001b[A\u001b[A\u001b[A\u001b[A"
     ]
    },
    {
     "name": "stdout",
     "output_type": "stream",
     "text": [
      "url: http://facebook.com/tetsuya03x\n",
      "url: http://abs.twimg.com/images/themes/theme9/bg.gif\n",
      "url: https://abs.twimg.com/images/themes/theme9/bg.gif\n",
      "url: http://pbs.twimg.com/profile_images/1154918742154858496/iVT8JcAT_normal.jpg\n",
      "url: https://pbs.twimg.com/profile_images/1154918742154858496/iVT8JcAT_normal.jpg\n",
      "url: https://pbs.twimg.com/profile_banners/63628272/1554606301\n"
     ]
    },
    {
     "name": "stderr",
     "output_type": "stream",
     "text": [
      "\n",
      "\n",
      "\n",
      "\n",
      "\n",
      "\n",
      "\n",
      "\n",
      "\n",
      "  1%|          | 12/1000 [00:33<32:02,  1.95s/it]\u001b[A\u001b[A\u001b[A\u001b[A\u001b[A\u001b[A\u001b[A\u001b[A\u001b[A"
     ]
    },
    {
     "name": "stdout",
     "output_type": "stream",
     "text": [
      "url: https://api.twitter.com/1.1/geo/id/0106455f3a843910.json\n",
      "url: http://abs.twimg.com/images/themes/theme10/bg.gif\n",
      "url: https://abs.twimg.com/images/themes/theme10/bg.gif\n",
      "url: http://pbs.twimg.com/profile_images/673185620186017792/QmjWy132_normal.jpg\n",
      "url: https://pbs.twimg.com/profile_images/673185620186017792/QmjWy132_normal.jpg\n",
      "url: https://pbs.twimg.com/profile_banners/726069691/1561418726\n",
      "url: http://abs.twimg.com/images/themes/theme1/bg.png\n",
      "url: https://abs.twimg.com/images/themes/theme1/bg.png\n",
      "url: http://pbs.twimg.com/profile_images/1152128665398009857/I8-hm2NX_normal.jpg\n",
      "url: https://pbs.twimg.com/profile_images/1152128665398009857/I8-hm2NX_normal.jpg\n",
      "url: https://pbs.twimg.com/profile_banners/716432228/1548989721\n"
     ]
    },
    {
     "name": "stderr",
     "output_type": "stream",
     "text": [
      "\n",
      "\n",
      "\n",
      "\n",
      "\n",
      "\n",
      "\n",
      "\n",
      "\n",
      "  1%|▏         | 13/1000 [00:34<31:06,  1.89s/it]\u001b[A\u001b[A\u001b[A\u001b[A\u001b[A\u001b[A\u001b[A\u001b[A\u001b[A"
     ]
    },
    {
     "name": "stdout",
     "output_type": "stream",
     "text": [
      "url: http://www.floatingart.com\n",
      "url: http://abs.twimg.com/images/themes/theme8/bg.gif\n",
      "url: https://abs.twimg.com/images/themes/theme8/bg.gif\n",
      "url: http://pbs.twimg.com/profile_images/938552505654317056/BJtKd0T__normal.jpg\n",
      "url: https://pbs.twimg.com/profile_images/938552505654317056/BJtKd0T__normal.jpg\n",
      "url: https://pbs.twimg.com/profile_banners/102088528/1457896705\n",
      "url: http://abs.twimg.com/images/themes/theme1/bg.png\n",
      "url: https://abs.twimg.com/images/themes/theme1/bg.png\n",
      "url: http://pbs.twimg.com/profile_images/1074417306086924293/njCIJMtH_normal.jpg\n",
      "url: https://pbs.twimg.com/profile_images/1074417306086924293/njCIJMtH_normal.jpg\n",
      "url: https://t.co/J5NWvgkGA2\n",
      "url: https://twitter.com/nimrodog/status/1163800704970047494\n",
      "url: https://www.theguardian.com/profile/alex-andreou\n",
      "url: http://abs.twimg.com/images/themes/theme9/bg.gif\n",
      "url: https://abs.twimg.com/images/themes/theme9/bg.gif\n",
      "url: http://pbs.twimg.com/profile_images/1043803702216323072/AQn895hI_normal.jpg\n",
      "url: https://pbs.twimg.com/profile_images/1043803702216323072/AQn895hI_normal.jpg\n",
      "url: https://pbs.twimg.com/profile_banners/42371615/1554968684\n",
      "url: https://pbs.twimg.com/profile_banners/3131450495/1545007422\n",
      "url: http://abs.twimg.com/images/themes/theme1/bg.png\n",
      "url: https://abs.twimg.com/images/themes/theme1/bg.png\n",
      "url: http://pbs.twimg.com/profile_images/1074417306086924293/njCIJMtH_normal.jpg\n",
      "url: https://pbs.twimg.com/profile_images/1074417306086924293/njCIJMtH_normal.jpg\n",
      "url: https://pbs.twimg.com/profile_banners/3131450495/1545007422\n",
      "url: https://t.co/J5NWvgkGA2\n",
      "url: https://twitter.com/nimrodog/status/1163800704970047494\n"
     ]
    },
    {
     "name": "stderr",
     "output_type": "stream",
     "text": [
      "\n",
      "\n",
      "\n",
      "\n",
      "\n",
      "\n",
      "\n",
      "\n",
      "\n",
      "  1%|▏         | 14/1000 [00:42<58:46,  3.58s/it]\u001b[A\u001b[A\u001b[A\u001b[A\u001b[A\u001b[A\u001b[A\u001b[A\u001b[A"
     ]
    },
    {
     "name": "stdout",
     "output_type": "stream",
     "text": [
      "url: http://pbs.twimg.com/profile_images/1141668309877702657/HcVMiOxk_normal.jpg\n",
      "url: https://pbs.twimg.com/profile_images/1141668309877702657/HcVMiOxk_normal.jpg\n",
      "url: https://pbs.twimg.com/profile_banners/932284278355894273/1558015385\n",
      "url: https://rebellion.earth/\n",
      "url: http://abs.twimg.com/images/themes/theme1/bg.png\n",
      "url: https://abs.twimg.com/images/themes/theme1/bg.png\n",
      "url: http://pbs.twimg.com/profile_images/1135936563701960705/tdEckrb3_normal.png\n",
      "url: https://pbs.twimg.com/profile_images/1135936563701960705/tdEckrb3_normal.png\n",
      "url: https://pbs.twimg.com/profile_banners/1135914951745294336/1559662714\n"
     ]
    },
    {
     "name": "stderr",
     "output_type": "stream",
     "text": [
      "\n",
      "\n",
      "\n",
      "\n",
      "\n",
      "\n",
      "\n",
      "\n",
      "\n",
      "  2%|▏         | 15/1000 [00:45<58:18,  3.55s/it]\u001b[A\u001b[A\u001b[A\u001b[A\u001b[A\u001b[A\u001b[A\u001b[A\u001b[A"
     ]
    },
    {
     "name": "stdout",
     "output_type": "stream",
     "text": [
      "url: http://pbs.twimg.com/profile_images/1154839170168303616/ZSBaeLNk_normal.jpg\n",
      "url: https://pbs.twimg.com/profile_images/1154839170168303616/ZSBaeLNk_normal.jpg\n",
      "url: https://pbs.twimg.com/profile_banners/756209737151176704/1564170137\n",
      "url: https://rebellion.earth/\n",
      "url: http://abs.twimg.com/images/themes/theme1/bg.png\n",
      "url: https://abs.twimg.com/images/themes/theme1/bg.png\n",
      "url: http://pbs.twimg.com/profile_images/1135936563701960705/tdEckrb3_normal.png\n",
      "url: https://pbs.twimg.com/profile_images/1135936563701960705/tdEckrb3_normal.png\n",
      "url: https://pbs.twimg.com/profile_banners/1135914951745294336/1559662714\n"
     ]
    },
    {
     "name": "stderr",
     "output_type": "stream",
     "text": [
      "\n",
      "\n",
      "\n",
      "\n",
      "\n",
      "\n",
      "\n",
      "\n",
      "\n",
      "  2%|▏         | 16/1000 [00:48<54:17,  3.31s/it]\u001b[A\u001b[A\u001b[A\u001b[A\u001b[A\u001b[A\u001b[A\u001b[A\u001b[A"
     ]
    },
    {
     "name": "stdout",
     "output_type": "stream",
     "text": [
      "url: http://csh.bz/line/05xp.html\n",
      "url: http://abs.twimg.com/images/themes/theme9/bg.gif\n",
      "url: https://abs.twimg.com/images/themes/theme9/bg.gif\n",
      "url: http://pbs.twimg.com/profile_images/1096073048518668288/2pGPrbsw_normal.jpg\n",
      "url: https://pbs.twimg.com/profile_images/1096073048518668288/2pGPrbsw_normal.jpg\n",
      "url: https://pbs.twimg.com/profile_banners/114727296/1563977210\n",
      "url: http://abs.twimg.com/images/themes/theme1/bg.png\n",
      "url: https://abs.twimg.com/images/themes/theme1/bg.png\n",
      "url: http://pbs.twimg.com/profile_images/959949566782124033/Kmx6rQBe_normal.jpg\n",
      "url: https://pbs.twimg.com/profile_images/959949566782124033/Kmx6rQBe_normal.jpg\n",
      "url: https://pbs.twimg.com/profile_banners/2196205482/1565724883\n"
     ]
    },
    {
     "name": "stderr",
     "output_type": "stream",
     "text": [
      "\n",
      "\n",
      "\n",
      "\n",
      "\n",
      "\n",
      "\n",
      "\n",
      "\n",
      "  2%|▏         | 17/1000 [00:50<48:38,  2.97s/it]\u001b[A\u001b[A\u001b[A\u001b[A\u001b[A\u001b[A\u001b[A\u001b[A\u001b[A"
     ]
    },
    {
     "name": "stdout",
     "output_type": "stream",
     "text": [
      "url: http://abs.twimg.com/images/themes/theme1/bg.png\n",
      "url: https://abs.twimg.com/images/themes/theme1/bg.png\n",
      "url: http://pbs.twimg.com/profile_images/1129487051139633152/FCHO5OcD_normal.jpg\n",
      "url: https://pbs.twimg.com/profile_images/1129487051139633152/FCHO5OcD_normal.jpg\n",
      "url: https://pbs.twimg.com/profile_banners/836763746/1563330056\n",
      "url: http://abs.twimg.com/images/themes/theme1/bg.png\n",
      "url: https://abs.twimg.com/images/themes/theme1/bg.png\n",
      "url: http://pbs.twimg.com/profile_images/1152128665398009857/I8-hm2NX_normal.jpg\n",
      "url: https://pbs.twimg.com/profile_images/1152128665398009857/I8-hm2NX_normal.jpg\n",
      "url: https://pbs.twimg.com/profile_banners/716432228/1548989721\n"
     ]
    },
    {
     "name": "stderr",
     "output_type": "stream",
     "text": [
      "\n",
      "\n",
      "\n",
      "\n",
      "\n",
      "\n",
      "\n",
      "\n",
      "\n",
      "  2%|▏         | 18/1000 [00:52<41:57,  2.56s/it]\u001b[A\u001b[A\u001b[A\u001b[A\u001b[A\u001b[A\u001b[A\u001b[A\u001b[A"
     ]
    },
    {
     "name": "stdout",
     "output_type": "stream",
     "text": [
      "url: http://abs.twimg.com/images/themes/theme1/bg.png\n",
      "url: https://abs.twimg.com/images/themes/theme1/bg.png\n",
      "url: http://pbs.twimg.com/profile_images/1072174500467236864/q8mbz4nf_normal.jpg\n",
      "url: https://pbs.twimg.com/profile_images/1072174500467236864/q8mbz4nf_normal.jpg\n",
      "url: https://pbs.twimg.com/profile_banners/3307387386/1537646474\n",
      "url: http://www.majorgauravarya.wordpress.com\n",
      "url: http://pbs.twimg.com/profile_images/1011109993045774337/i1NXO3Mx_normal.jpg\n",
      "url: https://pbs.twimg.com/profile_images/1011109993045774337/i1NXO3Mx_normal.jpg\n",
      "url: https://pbs.twimg.com/profile_banners/758859344561569792/1493996189\n"
     ]
    },
    {
     "name": "stderr",
     "output_type": "stream",
     "text": [
      "\n",
      "\n",
      "\n",
      "\n",
      "\n",
      "\n",
      "\n",
      "\n",
      "\n",
      "  2%|▏         | 19/1000 [00:54<37:58,  2.32s/it]\u001b[A\u001b[A\u001b[A\u001b[A\u001b[A\u001b[A\u001b[A\u001b[A\u001b[A"
     ]
    },
    {
     "name": "stdout",
     "output_type": "stream",
     "text": [
      "url: http://rosiedee55.wordpress.com/\n",
      "url: http://abs.twimg.com/images/themes/theme10/bg.gif\n",
      "url: https://abs.twimg.com/images/themes/theme10/bg.gif\n",
      "url: http://pbs.twimg.com/profile_images/1075079891425656832/KIM8NcWQ_normal.jpg\n",
      "url: https://pbs.twimg.com/profile_images/1075079891425656832/KIM8NcWQ_normal.jpg\n",
      "url: https://pbs.twimg.com/profile_banners/92075232/1545153938\n",
      "url: http://www.vardagroup.org\n",
      "url: http://abs.twimg.com/images/themes/theme18/bg.gif\n",
      "url: https://abs.twimg.com/images/themes/theme18/bg.gif\n",
      "url: http://pbs.twimg.com/profile_images/726001879751254016/AepwJkRf_normal.jpg\n",
      "url: https://pbs.twimg.com/profile_images/726001879751254016/AepwJkRf_normal.jpg\n",
      "url: https://pbs.twimg.com/profile_banners/385570110/1398542607\n"
     ]
    },
    {
     "name": "stderr",
     "output_type": "stream",
     "text": [
      "\n",
      "\n",
      "\n",
      "\n",
      "\n",
      "\n",
      "\n",
      "\n",
      "\n",
      "  2%|▏         | 20/1000 [01:00<56:49,  3.48s/it]\u001b[A\u001b[A\u001b[A\u001b[A\u001b[A\u001b[A\u001b[A\u001b[A\u001b[A"
     ]
    },
    {
     "name": "stdout",
     "output_type": "stream",
     "text": [
      "url: http://www.kats.co.ug/attorney/soogi/\n",
      "url: http://pbs.twimg.com/profile_images/862313072907694080/kMhyXB7l_normal.jpg\n",
      "url: https://pbs.twimg.com/profile_images/862313072907694080/kMhyXB7l_normal.jpg\n",
      "url: http://thekopite.co.uk\n",
      "url: http://pbs.twimg.com/profile_images/1141026454949584896/--v8jQ3L_normal.jpg\n",
      "url: https://pbs.twimg.com/profile_images/1141026454949584896/--v8jQ3L_normal.jpg\n",
      "url: https://pbs.twimg.com/profile_banners/990507104753668097/1560852917\n"
     ]
    },
    {
     "name": "stderr",
     "output_type": "stream",
     "text": [
      "\n",
      "\n",
      "\n",
      "\n",
      "\n",
      "\n",
      "\n",
      "\n",
      "\n",
      "  2%|▏         | 21/1000 [01:10<1:29:26,  5.48s/it]\u001b[A\u001b[A\u001b[A\u001b[A\u001b[A\u001b[A\u001b[A\u001b[A\u001b[A"
     ]
    },
    {
     "name": "stdout",
     "output_type": "stream",
     "text": [
      "url: http://abs.twimg.com/images/themes/theme1/bg.png\n",
      "url: https://abs.twimg.com/images/themes/theme1/bg.png\n",
      "url: http://pbs.twimg.com/profile_images/1111565750936973312/PEwjyZmi_normal.jpg\n",
      "url: https://pbs.twimg.com/profile_images/1111565750936973312/PEwjyZmi_normal.jpg\n",
      "url: https://pbs.twimg.com/profile_banners/2865171680/1540325921\n",
      "url: http://abs.twimg.com/images/themes/theme1/bg.png\n",
      "url: https://abs.twimg.com/images/themes/theme1/bg.png\n",
      "url: http://pbs.twimg.com/profile_images/1132969449324273664/COOQP3uA_normal.jpg\n",
      "url: https://pbs.twimg.com/profile_images/1132969449324273664/COOQP3uA_normal.jpg\n",
      "url: https://pbs.twimg.com/profile_banners/498714822/1526210406\n"
     ]
    },
    {
     "name": "stderr",
     "output_type": "stream",
     "text": [
      "\n",
      "\n",
      "\n",
      "\n",
      "\n",
      "\n",
      "\n",
      "\n",
      "\n",
      "  2%|▏         | 22/1000 [01:12<1:10:30,  4.33s/it]\u001b[A\u001b[A\u001b[A\u001b[A\u001b[A\u001b[A\u001b[A\u001b[A\u001b[A"
     ]
    },
    {
     "name": "stdout",
     "output_type": "stream",
     "text": [
      "url: https://api.twitter.com/1.1/geo/id/00cc0d5640394308.json\n",
      "url: http://about.me/claudia.borges\n",
      "url: http://abs.twimg.com/images/themes/theme1/bg.png\n",
      "url: https://abs.twimg.com/images/themes/theme1/bg.png\n",
      "url: http://pbs.twimg.com/profile_images/1105896685925031936/1ODR6N8X_normal.png\n",
      "url: https://pbs.twimg.com/profile_images/1105896685925031936/1ODR6N8X_normal.png\n",
      "url: https://pbs.twimg.com/profile_banners/14252494/1552501668\n",
      "url: https://amtourinho.wixsite.com/altourinho\n",
      "url: http://abs.twimg.com/images/themes/theme19/bg.gif\n",
      "url: https://abs.twimg.com/images/themes/theme19/bg.gif\n",
      "url: http://pbs.twimg.com/profile_images/578242444480802816/Dcfq9Y2-_normal.jpeg\n",
      "url: https://pbs.twimg.com/profile_images/578242444480802816/Dcfq9Y2-_normal.jpeg\n",
      "url: https://pbs.twimg.com/profile_banners/58310132/1556548486\n"
     ]
    },
    {
     "name": "stderr",
     "output_type": "stream",
     "text": [
      "\n",
      "\n",
      "\n",
      "\n",
      "\n",
      "\n",
      "\n",
      "\n",
      "\n",
      "  2%|▏         | 23/1000 [01:14<59:43,  3.67s/it]  \u001b[A\u001b[A\u001b[A\u001b[A\u001b[A\u001b[A\u001b[A\u001b[A\u001b[A"
     ]
    },
    {
     "name": "stdout",
     "output_type": "stream",
     "text": [
      "url: http://abs.twimg.com/images/themes/theme1/bg.png\n",
      "url: https://abs.twimg.com/images/themes/theme1/bg.png\n",
      "url: http://pbs.twimg.com/profile_images/1156065364981223424/MADQaAHx_normal.jpg\n",
      "url: https://pbs.twimg.com/profile_images/1156065364981223424/MADQaAHx_normal.jpg\n",
      "url: https://pbs.twimg.com/profile_banners/2975435304/1563043173\n",
      "url: https://rebellion.earth/\n",
      "url: http://abs.twimg.com/images/themes/theme1/bg.png\n",
      "url: https://abs.twimg.com/images/themes/theme1/bg.png\n",
      "url: http://pbs.twimg.com/profile_images/1135936563701960705/tdEckrb3_normal.png\n",
      "url: https://pbs.twimg.com/profile_images/1135936563701960705/tdEckrb3_normal.png\n",
      "url: https://pbs.twimg.com/profile_banners/1135914951745294336/1559662714\n"
     ]
    },
    {
     "name": "stderr",
     "output_type": "stream",
     "text": [
      "\n",
      "\n",
      "\n",
      "\n",
      "\n",
      "\n",
      "\n",
      "\n",
      "\n",
      "  2%|▏         | 24/1000 [01:17<55:32,  3.41s/it]\u001b[A\u001b[A\u001b[A\u001b[A\u001b[A\u001b[A\u001b[A\u001b[A\u001b[A"
     ]
    },
    {
     "name": "stdout",
     "output_type": "stream",
     "text": [
      "url: http://abs.twimg.com/images/themes/theme1/bg.png\n",
      "url: https://abs.twimg.com/images/themes/theme1/bg.png\n",
      "url: http://pbs.twimg.com/profile_images/1162106335292469249/Bgy2MFnW_normal.jpg\n",
      "url: https://pbs.twimg.com/profile_images/1162106335292469249/Bgy2MFnW_normal.jpg\n",
      "url: https://pbs.twimg.com/profile_banners/2150102464/1565730718\n",
      "url: http://www.Instagram.com/realDonaldTrump\n",
      "url: http://abs.twimg.com/images/themes/theme1/bg.png\n",
      "url: https://abs.twimg.com/images/themes/theme1/bg.png\n",
      "url: http://pbs.twimg.com/profile_images/874276197357596672/kUuht00m_normal.jpg\n",
      "url: https://pbs.twimg.com/profile_images/874276197357596672/kUuht00m_normal.jpg\n",
      "url: https://t.co/eGEsW2XLEh\n",
      "url: https://twitter.com/realdonaldtrump/status/1163597488173060102\n",
      "url: http://abs.twimg.com/images/themes/theme1/bg.png\n",
      "url: https://abs.twimg.com/images/themes/theme1/bg.png\n",
      "url: http://pbs.twimg.com/profile_images/2937819571/ddcc8b99db3babe21ac6fa6d81a4aafa_normal.jpeg\n",
      "url: https://pbs.twimg.com/profile_images/2937819571/ddcc8b99db3babe21ac6fa6d81a4aafa_normal.jpeg\n",
      "url: https://pbs.twimg.com/profile_banners/25073877/1560920145\n",
      "url: http://www.Instagram.com/realDonaldTrump\n",
      "url: http://abs.twimg.com/images/themes/theme1/bg.png\n",
      "url: https://abs.twimg.com/images/themes/theme1/bg.png\n",
      "url: http://pbs.twimg.com/profile_images/874276197357596672/kUuht00m_normal.jpg\n",
      "url: https://pbs.twimg.com/profile_images/874276197357596672/kUuht00m_normal.jpg\n",
      "url: https://pbs.twimg.com/profile_banners/25073877/1560920145\n",
      "url: https://t.co/eGEsW2XLEh\n",
      "url: https://twitter.com/realdonaldtrump/status/1163597488173060102\n"
     ]
    },
    {
     "name": "stderr",
     "output_type": "stream",
     "text": [
      "\n",
      "\n",
      "\n",
      "\n",
      "\n",
      "\n",
      "\n",
      "\n",
      "\n",
      "  2%|▎         | 25/1000 [01:24<1:13:02,  4.50s/it]\u001b[A\u001b[A\u001b[A\u001b[A\u001b[A\u001b[A\u001b[A\u001b[A\u001b[A"
     ]
    },
    {
     "name": "stdout",
     "output_type": "stream",
     "text": [
      "url: http://pbs.twimg.com/profile_images/1161069687532400640/wNcKpjSL_normal.jpg\n",
      "url: https://pbs.twimg.com/profile_images/1161069687532400640/wNcKpjSL_normal.jpg\n",
      "url: https://pbs.twimg.com/profile_banners/964291619070636032/1565655506\n",
      "url: https://rebellion.earth/\n",
      "url: http://abs.twimg.com/images/themes/theme1/bg.png\n",
      "url: https://abs.twimg.com/images/themes/theme1/bg.png\n",
      "url: http://pbs.twimg.com/profile_images/1135936563701960705/tdEckrb3_normal.png\n",
      "url: https://pbs.twimg.com/profile_images/1135936563701960705/tdEckrb3_normal.png\n",
      "url: https://pbs.twimg.com/profile_banners/1135914951745294336/1559662714\n"
     ]
    },
    {
     "name": "stderr",
     "output_type": "stream",
     "text": [
      "\n",
      "\n",
      "\n",
      "\n",
      "\n",
      "\n",
      "\n",
      "\n",
      "\n",
      "  3%|▎         | 26/1000 [01:26<1:00:59,  3.76s/it]\u001b[A\u001b[A\u001b[A\u001b[A\u001b[A\u001b[A\u001b[A\u001b[A\u001b[A"
     ]
    },
    {
     "name": "stdout",
     "output_type": "stream",
     "text": [
      "url: http://www.redbubble.com/people/dembonesart\n"
     ]
    }
   ],
   "source": [
    "import ast\n",
    "for i in tqdm(range(0, 1000)):\n",
    "    images = []\n",
    "    tweets = []\n",
    "    user_ids = []\n",
    "    tweet_ids = []\n",
    "    links = ast.literal_eval(data_small.iloc[i][\"links\"])\n",
    "    for url in links:\n",
    "        print(\"url:\", url)\n",
    "        if check_for_image(url):\n",
    "            img_data = requests.get(url).content\n",
    "            with open('downloaded_images/'+str(i)+'.jpg', 'wb') as handler:\n",
    "                handler.write(img_data)\n",
    "            images.append('downloaded_images/'+str(i)+'.jpg')\n",
    "            tweets.append(data_small.iloc[i][\"text\"])\n",
    "            user_ids.append(data_small.iloc[i][\"user.id\"])\n",
    "            tweet_ids.append(data_small.iloc[i][\"id\"])\n",
    "            "
   ]
  },
  {
   "cell_type": "markdown",
   "metadata": {},
   "source": [
    "### 3. Splitting into train/test:"
   ]
  },
  {
   "cell_type": "code",
   "execution_count": null,
   "metadata": {},
   "outputs": [],
   "source": [
    "train, test = train_test_split(df, test_size=0.2)\n",
    "train.to_csv(\"dota_col_red_train.csv\")\n",
    "\n",
    "test.to_csv(\"dota_col_red_test.csv\")"
   ]
  },
  {
   "cell_type": "code",
   "execution_count": null,
   "metadata": {},
   "outputs": [],
   "source": []
  }
 ],
 "metadata": {
  "kernelspec": {
   "display_name": "Python 3",
   "language": "python",
   "name": "python3"
  },
  "language_info": {
   "codemirror_mode": {
    "name": "ipython",
    "version": 3
   },
   "file_extension": ".py",
   "mimetype": "text/x-python",
   "name": "python",
   "nbconvert_exporter": "python",
   "pygments_lexer": "ipython3",
   "version": "3.6.8"
  }
 },
 "nbformat": 4,
 "nbformat_minor": 2
}
